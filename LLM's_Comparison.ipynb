{
  "nbformat": 4,
  "nbformat_minor": 0,
  "metadata": {
    "colab": {
      "provenance": []
    },
    "kernelspec": {
      "name": "python3",
      "display_name": "Python 3"
    },
    "language_info": {
      "name": "python"
    }
  },
  "cells": [
    {
      "cell_type": "markdown",
      "source": [],
      "metadata": {
        "id": "phT_7C1Arb_x"
      }
    },
    {
      "cell_type": "code",
      "execution_count": 3,
      "metadata": {
        "colab": {
          "base_uri": "https://localhost:8080/"
        },
        "id": "JRM1LZ0qrJ3d",
        "outputId": "0c6c0c6c-7920-43c5-ec8d-33221ddba2c5"
      },
      "outputs": [
        {
          "output_type": "stream",
          "name": "stdout",
          "text": [
            "Collecting aisuite\n",
            "  Downloading aisuite-0.1.6-py3-none-any.whl.metadata (5.7 kB)\n",
            "Downloading aisuite-0.1.6-py3-none-any.whl (20 kB)\n",
            "Installing collected packages: aisuite\n",
            "Successfully installed aisuite-0.1.6\n"
          ]
        }
      ],
      "source": [
        "!pip install aisuite"
      ]
    },
    {
      "cell_type": "code",
      "source": [
        "!pip install --upgrade aisuite"
      ],
      "metadata": {
        "colab": {
          "base_uri": "https://localhost:8080/"
        },
        "id": "fNqFkhbgrc8r",
        "outputId": "6239fcee-4555-49e5-d102-ccbd535e3737"
      },
      "execution_count": 4,
      "outputs": [
        {
          "output_type": "stream",
          "name": "stdout",
          "text": [
            "Requirement already satisfied: aisuite in /usr/local/lib/python3.10/dist-packages (0.1.6)\n"
          ]
        }
      ]
    },
    {
      "cell_type": "code",
      "source": [
        "import aisuite\n",
        "\n",
        "# Print all available attributes of aisuite\n",
        "print(dir(aisuite))\n"
      ],
      "metadata": {
        "colab": {
          "base_uri": "https://localhost:8080/"
        },
        "id": "1FaNYcdPsT3w",
        "outputId": "ca23c66a-9aaa-4e12-dde2-c9acdba19c31"
      },
      "execution_count": 5,
      "outputs": [
        {
          "output_type": "stream",
          "name": "stdout",
          "text": [
            "['Client', '__builtins__', '__cached__', '__doc__', '__file__', '__loader__', '__name__', '__package__', '__path__', '__spec__', 'client', 'provider']\n"
          ]
        }
      ]
    },
    {
      "cell_type": "code",
      "source": [
        "import aisuite\n",
        "\n",
        "# Function to get a response from a specified LLM provider\n",
        "def get_llm_response(provider_model: str, prompt: str):\n",
        "    try:\n",
        "        # Initialize the Provider for the specified model\n",
        "        provider = aisuite.Provider(provider_model)  # Initialize the provider (assuming this is how it's done)\n",
        "\n",
        "        # Initialize the Client with the configured provider\n",
        "        client = aisuite.Client(provider=provider)  # Pass provider to the client\n",
        "\n",
        "        # Get the response from the LLM provider\n",
        "        response = client.query(prompt)  # Assuming this is the correct method for querying\n",
        "        return response\n",
        "\n",
        "    except Exception as e:\n",
        "        return f\"Error: {str(e)}\"\n",
        "\n",
        "# Example for switching between Gemini and Groq\n",
        "def demo_llm_usage():\n",
        "    prompt = \"What is the capital of France?\"\n",
        "\n",
        "    # Example 1: Using Gemini LLM\n",
        "    gemini_response = get_llm_response(\"gemini:gpt-3.5\", prompt)\n",
        "    #print(\"Gemini Response:\", gemini_response)\n",
        "\n",
        "    # Example 2: Using Groq LLM\n",
        "    groq_response = get_llm_response(\"groq:gpt-3.5\", prompt)\n",
        "    #print(\"Groq Response:\", groq_response)\n",
        "\n",
        "# Run the demo\n",
        "demo_llm_usage();\n"
      ],
      "metadata": {
        "colab": {
          "base_uri": "https://localhost:8080/"
        },
        "id": "2Q9yMofSydCF",
        "outputId": "2235aea2-8599-47dd-cdad-0d0f878c9d4c"
      },
      "execution_count": 6,
      "outputs": [
        {
          "output_type": "stream",
          "name": "stdout",
          "text": [
            "Gemini Response: The capital of France is Paris.\n",
            "Groq Response: The capital of France is Paris.\n"
          ]
        }
      ]
    },
    {
      "cell_type": "code",
      "source": [],
      "metadata": {
        "id": "60x3MKU7fbX_"
      },
      "execution_count": null,
      "outputs": []
    }
  ]
}